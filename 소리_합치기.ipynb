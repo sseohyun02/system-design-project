{
 "cells": [
  {
   "cell_type": "code",
   "execution_count": 2,
   "id": "c68a789d",
   "metadata": {},
   "outputs": [
    {
     "name": "stdout",
     "output_type": "stream",
     "text": [
      "Collecting pydub\n",
      "  Downloading pydub-0.25.1-py2.py3-none-any.whl.metadata (1.4 kB)\n",
      "Downloading pydub-0.25.1-py2.py3-none-any.whl (32 kB)\n",
      "Installing collected packages: pydub\n",
      "Successfully installed pydub-0.25.1\n",
      "Note: you may need to restart the kernel to use updated packages.\n"
     ]
    },
    {
     "name": "stderr",
     "output_type": "stream",
     "text": [
      "\n",
      "[notice] A new release of pip is available: 24.2 -> 25.1.1\n",
      "[notice] To update, run: python.exe -m pip install --upgrade pip\n"
     ]
    }
   ],
   "source": [
    "pip install pydub"
   ]
  },
  {
   "cell_type": "code",
   "execution_count": 5,
   "id": "b61b6e50",
   "metadata": {},
   "outputs": [
    {
     "name": "stdout",
     "output_type": "stream",
     "text": [
      "Saved: mixed_data/test1.wav\n"
     ]
    }
   ],
   "source": [
    "## 테스트용\n",
    "\n",
    "import os\n",
    "from pydub import AudioSegment\n",
    "\n",
    "# 파일 경로 설정 (원하는 파일 하나씩 직접 지정)\n",
    "normal_path = \"ㅈㅅ/ㅈㅅ/1-7456-A-13.wav\"\n",
    "abnormal_path = \"ㅂㅈㅅ/ㅂㅈㅅ/1.wav\"\n",
    "output_path = \"mixed_data/test1.wav\"\n",
    "\n",
    "# 출력 폴더 생성\n",
    "os.makedirs(os.path.dirname(output_path), exist_ok=True)\n",
    "\n",
    "# 오디오 불러오기\n",
    "normal = AudioSegment.from_wav(normal_path)\n",
    "abnormal = AudioSegment.from_wav(abnormal_path)\n",
    "\n",
    "# 길이 맞추기\n",
    "min_len = min(len(normal), len(abnormal))\n",
    "normal = normal[:min_len]\n",
    "abnormal = abnormal[:min_len]\n",
    "\n",
    "# 오버레이 (동시에 재생)\n",
    "mixed = normal.overlay(abnormal)\n",
    "\n",
    "# 저장\n",
    "mixed.export(output_path, format=\"wav\")\n",
    "print(f\"Saved: {output_path}\")"
   ]
  },
  {
   "cell_type": "code",
   "execution_count": null,
   "id": "693ce2c8",
   "metadata": {},
   "outputs": [],
   "source": []
  }
 ],
 "metadata": {
  "kernelspec": {
   "display_name": "base",
   "language": "python",
   "name": "python3"
  },
  "language_info": {
   "codemirror_mode": {
    "name": "ipython",
    "version": 3
   },
   "file_extension": ".py",
   "mimetype": "text/x-python",
   "name": "python",
   "nbconvert_exporter": "python",
   "pygments_lexer": "ipython3",
   "version": "3.11.7"
  }
 },
 "nbformat": 4,
 "nbformat_minor": 5
}
