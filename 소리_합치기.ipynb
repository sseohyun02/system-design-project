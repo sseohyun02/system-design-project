{
 "cells": [
  {
   "cell_type": "markdown",
   "id": "bf459722",
   "metadata": {},
   "source": [
    "- 소리 증폭"
   ]
  },
  {
   "cell_type": "code",
   "execution_count": null,
   "id": "33838cfd",
   "metadata": {},
   "outputs": [],
   "source": [
    "import soundfile as sf\n",
    "import numpy as np\n",
    "import os\n",
    "\n",
    "# 파일 경로 설정 \n",
    "input_files = ['/content/정상.wav', '/content/비정상.wav', '/content/정상+비정상.wav']\n",
    "output_files = ['/content/정상_증폭.wav', '/content/비정상_증폭.wav', '/content/정상+비정상_증폭.wav']\n",
    "\n",
    "# 증폭 비율 설정 (2.0 = 2배 증폭)\n",
    "amplification_factor = 2.0\n",
    "\n",
    "# 파일 증폭 함수\n",
    "def amplify_audio(input_path, output_path, factor):\n",
    "    # 오디오 파일 읽기\n",
    "    data, samplerate = sf.read(input_path)\n",
    "    \n",
    "    # 증폭 적용\n",
    "    amplified_data = data * factor\n",
    "    \n",
    "    # 클리핑 방지 (값을 -1.0 ~ 1.0으로 제한)\n",
    "    amplified_data = np.clip(amplified_data, -1.0, 1.0)\n",
    "    \n",
    "    # 증폭된 파일 저장\n",
    "    sf.write(output_path, amplified_data, samplerate)\n",
    "    print(f'{output_path} 파일이 증폭되어 저장되었습니다.')\n",
    "\n",
    "# 모든 파일 증폭\n",
    "for input_file, output_file in zip(input_files, output_files):\n",
    "    if os.path.exists(input_file):\n",
    "        amplify_audio(input_file, output_file, amplification_factor)\n",
    "    else:\n",
    "        print(f\"{input_file} 파일이 존재하지 않습니다.\")"
   ]
  },
  {
   "cell_type": "code",
   "execution_count": 2,
   "id": "c68a789d",
   "metadata": {},
   "outputs": [
    {
     "name": "stdout",
     "output_type": "stream",
     "text": [
      "Collecting pydub\n",
      "  Downloading pydub-0.25.1-py2.py3-none-any.whl.metadata (1.4 kB)\n",
      "Downloading pydub-0.25.1-py2.py3-none-any.whl (32 kB)\n",
      "Installing collected packages: pydub\n",
      "Successfully installed pydub-0.25.1\n",
      "Note: you may need to restart the kernel to use updated packages.\n"
     ]
    },
    {
     "name": "stderr",
     "output_type": "stream",
     "text": [
      "\n",
      "[notice] A new release of pip is available: 24.2 -> 25.1.1\n",
      "[notice] To update, run: python.exe -m pip install --upgrade pip\n"
     ]
    }
   ],
   "source": [
    "pip install pydub"
   ]
  },
  {
   "cell_type": "code",
   "execution_count": 5,
   "id": "b61b6e50",
   "metadata": {},
   "outputs": [
    {
     "name": "stdout",
     "output_type": "stream",
     "text": [
      "Saved: mixed_data/test1.wav\n"
     ]
    }
   ],
   "source": [
    "## 테스트용\n",
    "\n",
    "import os\n",
    "from pydub import AudioSegment\n",
    "\n",
    "# 파일 경로 설정 (원하는 파일 하나씩 직접 지정)\n",
    "normal_path = \"ㅈㅅ/ㅈㅅ/1-7456-A-13.wav\"\n",
    "abnormal_path = \"ㅂㅈㅅ/ㅂㅈㅅ/1.wav\"\n",
    "output_path = \"mixed_data/test1.wav\"\n",
    "\n",
    "# 출력 폴더 생성\n",
    "os.makedirs(os.path.dirname(output_path), exist_ok=True)\n",
    "\n",
    "# 오디오 불러오기\n",
    "normal = AudioSegment.from_wav(normal_path)\n",
    "abnormal = AudioSegment.from_wav(abnormal_path)\n",
    "\n",
    "# 길이 맞추기\n",
    "min_len = min(len(normal), len(abnormal))\n",
    "normal = normal[:min_len]\n",
    "abnormal = abnormal[:min_len]\n",
    "\n",
    "# 오버레이 (동시에 재생)\n",
    "mixed = normal.overlay(abnormal)\n",
    "\n",
    "# 저장\n",
    "mixed.export(output_path, format=\"wav\")\n",
    "print(f\"Saved: {output_path}\")"
   ]
  },
  {
   "cell_type": "code",
   "execution_count": null,
   "id": "693ce2c8",
   "metadata": {},
   "outputs": [],
   "source": [
    "import os\n",
    "import random\n",
    "from glob import glob\n",
    "from pydub import AudioSegment\n",
    "\n",
    "# 입력/출력 디렉토리\n",
    "BASE_DIR = \"data\"\n",
    "OUTPUT_DIR = \"mixed_data\"\n",
    "os.makedirs(OUTPUT_DIR, exist_ok=True)\n",
    "\n",
    "# 조합 규칙 정의\n",
    "pairings = [\n",
    "    {\n",
    "        \"normal\": (\"일상\", \"물 내리는 소리\"),\n",
    "        \"abnormal\": (\"강도\",),\n",
    "        \"label\": \"water_scream\"\n",
    "    },\n",
    "    # 추가 매핑 필요 시 여기에 append\n",
    "]\n",
    "\n",
    "def get_wav_files(base, *subdirs):\n",
    "    path = os.path.join(BASE_DIR, base, *subdirs)\n",
    "    return glob(os.path.join(path, \"*.wav\"))\n",
    "\n",
    "# 조합 및 저장\n",
    "for pair in pairings:\n",
    "    normal_files = get_wav_files(\"정상\", *pair[\"normal\"])\n",
    "    abnormal_files = get_wav_files(\"비정상\", *pair[\"abnormal\"])\n",
    "    \n",
    "    # 짧은 쪽 기준으로 조합 수 제한\n",
    "    count = min(len(normal_files), len(abnormal_files))\n",
    "\n",
    "    for i in range(count):\n",
    "        normal = AudioSegment.from_wav(normal_files[i])\n",
    "        abnormal = AudioSegment.from_wav(abnormal_files[i])\n",
    "        \n",
    "        # 길이 맞추기\n",
    "        min_len = min(len(normal), len(abnormal))\n",
    "        normal = normal[:min_len]\n",
    "        abnormal = abnormal[:min_len]\n",
    "\n",
    "        # overlay 후 저장\n",
    "        mixed = normal.overlay(abnormal)\n",
    "        output_path = os.path.join(OUTPUT_DIR, f\"{pair['label']}_{i+1}.wav\")\n",
    "        mixed.export(output_path, format=\"wav\")\n",
    "\n",
    "        print(f\"Saved: {output_path}\")"
   ]
  }
 ],
 "metadata": {
  "kernelspec": {
   "display_name": "base",
   "language": "python",
   "name": "python3"
  },
  "language_info": {
   "codemirror_mode": {
    "name": "ipython",
    "version": 3
   },
   "file_extension": ".py",
   "mimetype": "text/x-python",
   "name": "python",
   "nbconvert_exporter": "python",
   "pygments_lexer": "ipython3",
   "version": "3.11.7"
  }
 },
 "nbformat": 4,
 "nbformat_minor": 5
}
