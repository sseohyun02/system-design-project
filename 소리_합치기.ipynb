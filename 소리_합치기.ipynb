{
 "cells": [
  {
   "cell_type": "markdown",
   "id": "bf459722",
   "metadata": {},
   "source": [
    "### 소리 증폭"
   ]
  },
  {
   "cell_type": "code",
   "execution_count": null,
   "id": "33838cfd",
   "metadata": {},
   "outputs": [],
   "source": [
    "# import soundfile as sf\n",
    "# import numpy as np\n",
    "# import os\n",
    "\n",
    "# # 파일 경로 설정 \n",
    "# input_files = ['/content/정상.wav', '/content/비정상.wav', '/content/정상+비정상.wav']\n",
    "# output_files = ['/content/정상_증폭.wav', '/content/비정상_증폭.wav', '/content/정상+비정상_증폭.wav']\n",
    "\n",
    "# # 증폭 비율 설정 (2.0 = 2배 증폭)\n",
    "# amplification_factor = 2.0\n",
    "\n",
    "# # 파일 증폭 함수\n",
    "# def amplify_audio(input_path, output_path, factor):\n",
    "#     # 오디오 파일 읽기\n",
    "#     data, samplerate = sf.read(input_path)\n",
    "    \n",
    "#     # 증폭 적용\n",
    "#     amplified_data = data * factor\n",
    "    \n",
    "#     # 클리핑 방지 (값을 -1.0 ~ 1.0으로 제한)\n",
    "#     amplified_data = np.clip(amplified_data, -1.0, 1.0)\n",
    "    \n",
    "#     # 증폭된 파일 저장\n",
    "#     sf.write(output_path, amplified_data, samplerate)\n",
    "#     print(f'{output_path} 파일이 증폭되어 저장되었습니다.')\n",
    "\n",
    "# # 모든 파일 증폭\n",
    "# for input_file, output_file in zip(input_files, output_files):\n",
    "#     if os.path.exists(input_file):\n",
    "#         amplify_audio(input_file, output_file, amplification_factor)\n",
    "#     else:\n",
    "#         print(f\"{input_file} 파일이 존재하지 않습니다.\")"
   ]
  },
  {
   "cell_type": "markdown",
   "id": "0bfb03f0",
   "metadata": {},
   "source": [
    "### 소리 합성 (비정상 + 정상 , 동시에 발생)"
   ]
  },
  {
   "cell_type": "code",
   "execution_count": 2,
   "id": "c68a789d",
   "metadata": {},
   "outputs": [
    {
     "name": "stdout",
     "output_type": "stream",
     "text": [
      "Collecting pydub\n",
      "  Downloading pydub-0.25.1-py2.py3-none-any.whl.metadata (1.4 kB)\n",
      "Downloading pydub-0.25.1-py2.py3-none-any.whl (32 kB)\n",
      "Installing collected packages: pydub\n",
      "Successfully installed pydub-0.25.1\n",
      "Note: you may need to restart the kernel to use updated packages.\n"
     ]
    },
    {
     "name": "stderr",
     "output_type": "stream",
     "text": [
      "\n",
      "[notice] A new release of pip is available: 24.2 -> 25.1.1\n",
      "[notice] To update, run: python.exe -m pip install --upgrade pip\n"
     ]
    }
   ],
   "source": [
    "pip install pydub"
   ]
  },
  {
   "cell_type": "markdown",
   "id": "12e55801",
   "metadata": {},
   "source": [
    "- 정상, 비정상 폴더만 있을 때 합치는 코드"
   ]
  },
  {
   "cell_type": "code",
   "execution_count": null,
   "id": "60368be6",
   "metadata": {},
   "outputs": [],
   "source": [
    "import os\n",
    "import random\n",
    "from glob import glob\n",
    "from pydub import AudioSegment\n",
    "\n",
    "# 디렉토리 설정\n",
    "normal_dir = \"종설데이터/정상\"\n",
    "abnormal_dir = \"종설데이터/비정상\"\n",
    "output_dir = \"종설데이터/혼합/비정상\"\n",
    "os.makedirs(output_dir, exist_ok=True)\n",
    "\n",
    "# .wav 파일 전체 가져오기\n",
    "normal_files = glob(os.path.join(normal_dir, \"**\", \"*.wav\"), recursive=True)\n",
    "abnormal_files = glob(os.path.join(abnormal_dir, \"**\", \"*.wav\"), recursive=True)\n",
    "\n",
    "# 생성할 혼합 데이터 수 (원하면 늘릴 수 있음)\n",
    "mix_count = min(len(normal_files), len(abnormal_files), 30)\n",
    "\n",
    "for i in range(mix_count):\n",
    "    # 랜덤 선택\n",
    "    normal_path = random.choice(normal_files)\n",
    "    abnormal_path = random.choice(abnormal_files)\n",
    "\n",
    "    # 파일 이름 추출 (확장자 제거)\n",
    "    normal_name = os.path.splitext(os.path.basename(normal_path))[0]\n",
    "    abnormal_name = os.path.splitext(os.path.basename(abnormal_path))[0]\n",
    "\n",
    "    # 오디오 불러오기\n",
    "    normal_audio = AudioSegment.from_wav(normal_path)\n",
    "    abnormal_audio = AudioSegment.from_wav(abnormal_path)\n",
    "\n",
    "    # 길이 맞추기 (짧은 쪽 기준)\n",
    "    min_len = min(len(normal_audio), len(abnormal_audio))\n",
    "    normal_audio = normal_audio[:min_len]\n",
    "    abnormal_audio = abnormal_audio[:min_len]\n",
    "\n",
    "    # 혼합\n",
    "    mixed = normal_audio.overlay(abnormal_audio)\n",
    "\n",
    "    # 저장\n",
    "    out_name = f\"혼합_동시_정상비정상_{abnormal_name}_{normal_name}_{i+1}.wav\"\n",
    "    out_path = os.path.join(output_dir, out_name)\n",
    "    mixed.export(out_path, format=\"wav\")\n",
    "    print(f\"Saved: {out_name}\")"
   ]
  },
  {
   "cell_type": "code",
   "execution_count": null,
   "id": "aeec46af",
   "metadata": {},
   "outputs": [
    {
     "name": "stdout",
     "output_type": "stream",
     "text": [
      "Saved: 혼합_폭행4_일반3_1.wav\n",
      "Saved: 혼합_폭행4_일반5_2.wav\n",
      "Saved: 혼합_폭행5_일반5_3.wav\n",
      "Saved: 혼합_폭행4_일반5_4.wav\n",
      "Saved: 혼합_강도3_일반2_5.wav\n"
     ]
    },
    {
     "name": "stderr",
     "output_type": "stream",
     "text": [
      "c:\\Users\\seohyun\\anaconda3\\Lib\\site-packages\\pydub\\utils.py:170: RuntimeWarning: Couldn't find ffmpeg or avconv - defaulting to ffmpeg, but may not work\n",
      "  warn(\"Couldn't find ffmpeg or avconv - defaulting to ffmpeg, but may not work\", RuntimeWarning)\n"
     ]
    }
   ],
   "source": [
    "# import os\n",
    "# import random\n",
    "# from glob import glob\n",
    "# from pydub import AudioSegment\n",
    "\n",
    "# # 디렉토리 설정\n",
    "# normal_dir = \"데이터/ㅈㅅ\"\n",
    "# abnormal_dir = \"데이터/ㅂㅈㅅ\"\n",
    "# output_dir = \"데이터/혼합\"\n",
    "# os.makedirs(output_dir, exist_ok=True)\n",
    "\n",
    "# # .wav 파일 전체 가져오기\n",
    "# normal_files = glob(os.path.join(normal_dir, \"**\", \"*.wav\"), recursive=True)\n",
    "# abnormal_files = glob(os.path.join(abnormal_dir, \"**\", \"*.wav\"), recursive=True)\n",
    "\n",
    "# # 생성할 혼합 데이터 수 (원하면 늘릴 수 있음)\n",
    "# mix_count = min(len(normal_files), len(abnormal_files), 30)\n",
    "\n",
    "# for i in range(mix_count):\n",
    "#     # 랜덤 선택\n",
    "#     normal_path = random.choice(normal_files)\n",
    "#     abnormal_path = random.choice(abnormal_files)\n",
    "\n",
    "#     # 파일 이름 추출 (확장자 제거)\n",
    "#     normal_name = os.path.splitext(os.path.basename(normal_path))[0]\n",
    "#     abnormal_name = os.path.splitext(os.path.basename(abnormal_path))[0]\n",
    "\n",
    "#     # 오디오 불러오기\n",
    "#     normal_audio = AudioSegment.from_wav(normal_path)\n",
    "#     abnormal_audio = AudioSegment.from_wav(abnormal_path)\n",
    "\n",
    "#     # 길이 맞추기 (짧은 쪽 기준)\n",
    "#     min_len = min(len(normal_audio), len(abnormal_audio))\n",
    "#     normal_audio = normal_audio[:min_len]\n",
    "#     abnormal_audio = abnormal_audio[:min_len]\n",
    "\n",
    "#     # 혼합\n",
    "#     mixed = normal_audio.overlay(abnormal_audio)\n",
    "\n",
    "#     # 저장\n",
    "#     out_name = f\"혼합_{abnormal_name}_{normal_name}_{i+1}.wav\"\n",
    "#     out_path = os.path.join(output_dir, out_name)\n",
    "#     mixed.export(out_path, format=\"wav\")\n",
    "#     print(f\"Saved: {out_name}\")"
   ]
  },
  {
   "cell_type": "markdown",
   "id": "e77bd53f",
   "metadata": {},
   "source": [
    "- 테스트용 (하나만)"
   ]
  },
  {
   "cell_type": "code",
   "execution_count": null,
   "id": "b61b6e50",
   "metadata": {},
   "outputs": [
    {
     "name": "stdout",
     "output_type": "stream",
     "text": [
      "Saved: mixed_data/test1.wav\n"
     ]
    }
   ],
   "source": [
    "# ## 테스트용\n",
    "\n",
    "# import os\n",
    "# from pydub import AudioSegment\n",
    "\n",
    "# # 파일 경로 설정 (원하는 파일 하나씩 직접 지정)\n",
    "# normal_path = \"ㅈㅅ/1-7456-A-13.wav\"\n",
    "# abnormal_path = \"ㅂㅈㅅ/ㅂㅈㅅ/1.wav\"\n",
    "# output_path = \"mixed_data/test1.wav\"\n",
    "\n",
    "# # 출력 폴더 생성\n",
    "# os.makedirs(os.path.dirname(output_path), exist_ok=True)\n",
    "\n",
    "# # 오디오 불러오기\n",
    "# normal = AudioSegment.from_wav(normal_path)\n",
    "# abnormal = AudioSegment.from_wav(abnormal_path)\n",
    "\n",
    "# # 길이 맞추기\n",
    "# min_len = min(len(normal), len(abnormal))\n",
    "# normal = normal[:min_len]\n",
    "# abnormal = abnormal[:min_len]\n",
    "\n",
    "# # 오버레이 (동시에 재생)\n",
    "# mixed = normal.overlay(abnormal)\n",
    "\n",
    "# # 저장\n",
    "# mixed.export(output_path, format=\"wav\")\n",
    "# print(f\"Saved: {output_path}\")"
   ]
  },
  {
   "cell_type": "markdown",
   "id": "27db70e5",
   "metadata": {},
   "source": [
    "- 폴더 나뉘어져 있을 때 합치는 코드"
   ]
  },
  {
   "cell_type": "code",
   "execution_count": null,
   "id": "693ce2c8",
   "metadata": {},
   "outputs": [],
   "source": [
    "# # 폴더 나뉘었을 때 기준\n",
    "# import os\n",
    "# import random\n",
    "# from glob import glob\n",
    "# from pydub import AudioSegment\n",
    "\n",
    "# # 입력/출력 디렉토리\n",
    "# BASE_DIR = \"data\"\n",
    "# OUTPUT_DIR = \"mixed_data\"\n",
    "# os.makedirs(OUTPUT_DIR, exist_ok=True)\n",
    "\n",
    "# # 조합 규칙 정의\n",
    "# pairings = [\n",
    "#     {\n",
    "#         \"normal\": (\"일상\", \"물 내리는 소리\"),\n",
    "#         \"abnormal\": (\"강도\",),\n",
    "#         \"label\": \"water_scream\"\n",
    "#     },\n",
    "#     # 추가 매핑 필요 시 여기에 append\n",
    "# ]\n",
    "\n",
    "# def get_wav_files(base, *subdirs):\n",
    "#     path = os.path.join(BASE_DIR, base, *subdirs)\n",
    "#     return glob(os.path.join(path, \"*.wav\"))\n",
    "\n",
    "# # 조합 및 저장\n",
    "# for pair in pairings:\n",
    "#     normal_files = get_wav_files(\"정상\", *pair[\"normal\"])\n",
    "#     abnormal_files = get_wav_files(\"비정상\", *pair[\"abnormal\"])\n",
    "    \n",
    "#     # 짧은 쪽 기준으로 조합 수 제한\n",
    "#     count = min(len(normal_files), len(abnormal_files))\n",
    "\n",
    "#     for i in range(count):\n",
    "#         normal = AudioSegment.from_wav(normal_files[i])\n",
    "#         abnormal = AudioSegment.from_wav(abnormal_files[i])\n",
    "        \n",
    "#         # 길이 맞추기\n",
    "#         min_len = min(len(normal), len(abnormal))\n",
    "#         normal = normal[:min_len]\n",
    "#         abnormal = abnormal[:min_len]\n",
    "\n",
    "#         # overlay 후 저장\n",
    "#         mixed = normal.overlay(abnormal)\n",
    "#         output_path = os.path.join(OUTPUT_DIR, f\"{pair['label']}_{i+1}.wav\")\n",
    "#         mixed.export(output_path, format=\"wav\")\n",
    "\n",
    "#         print(f\"Saved: {output_path}\")"
   ]
  },
  {
   "cell_type": "markdown",
   "id": "d68a7c62",
   "metadata": {},
   "source": [
    "### 소리 합성 (정상 + 정상 , 동시에 발생)"
   ]
  },
  {
   "cell_type": "code",
   "execution_count": null,
   "id": "3cc5058e",
   "metadata": {},
   "outputs": [],
   "source": [
    "import os\n",
    "import random\n",
    "from glob import glob\n",
    "from pydub import AudioSegment\n",
    "\n",
    "normal_dir = \"종설데이터/정상\"\n",
    "output_dir = \"종설데이터/혼합/정상\"\n",
    "os.makedirs(output_dir, exist_ok=True)\n",
    "\n",
    "# 전체 정상 파일 리스트 확보\n",
    "normal_files = glob(os.path.join(normal_dir, \"**\", \"*.wav\"), recursive=True)\n",
    "\n",
    "# 안전한 샘플링\n",
    "mix_count = min(len(normal_files), 30)\n",
    "for i in range(mix_count):\n",
    "    normal_path_1 = random.choice(normal_files)\n",
    "    normal_path_2 = random.choice(normal_files)\n",
    "\n",
    "    name_1 = os.path.splitext(os.path.basename(normal_path_1))[0]\n",
    "    name_2 = os.path.splitext(os.path.basename(normal_path_2))[0]\n",
    "\n",
    "    audio_1 = AudioSegment.from_wav(normal_path_1)\n",
    "    audio_2 = AudioSegment.from_wav(normal_path_2)\n",
    "\n",
    "    min_len = min(len(audio_1), len(audio_2))\n",
    "    mixed = audio_1[:min_len].overlay(audio_2[:min_len])\n",
    "\n",
    "    out_name = f\"혼합_동시_정상_{name_1}_{name_2}_{i+1}.wav\"\n",
    "    out_path = os.path.join(output_dir, out_name)\n",
    "    mixed.export(out_path, format=\"wav\")\n",
    "    print(f\"Saved: {out_name}\")\n"
   ]
  },
  {
   "cell_type": "markdown",
   "id": "eaca24a1",
   "metadata": {},
   "source": [
    "### 소리 합성 (비정상 + 비정상 , 동시에 발생)"
   ]
  },
  {
   "cell_type": "code",
   "execution_count": null,
   "id": "5386e40e",
   "metadata": {},
   "outputs": [],
   "source": [
    "import os\n",
    "import random\n",
    "from glob import glob\n",
    "from pydub import AudioSegment\n",
    "\n",
    "abnormal_dir = \"종설데이터/비정상\"\n",
    "output_dir = \"종설데이터/혼합/비정상\"\n",
    "os.makedirs(output_dir, exist_ok=True)\n",
    "\n",
    "# 전체 정상 파일 리스트 확보\n",
    "abnormal_files = glob(os.path.join(abnormal_dir, \"**\", \"*.wav\"), recursive=True)\n",
    "\n",
    "# 안전한 샘플링\n",
    "mix_count = min(len(abnormal_files), 30)\n",
    "for i in range(mix_count):\n",
    "    abnormal_path_1 = random.choice(abnormal_files)\n",
    "    abnormal_path_2 = random.choice(abnormal_files)\n",
    "\n",
    "    name_1 = os.path.splitext(os.path.basename(abnormal_path_1))[0]\n",
    "    name_2 = os.path.splitext(os.path.basename(abnormal_path_2))[0]\n",
    "\n",
    "    audio_1 = AudioSegment.from_wav(abnormal_path_1)\n",
    "    audio_2 = AudioSegment.from_wav(abnormal_path_2)\n",
    "\n",
    "    min_len = min(len(audio_1), len(audio_2))\n",
    "    mixed = audio_1[:min_len].overlay(audio_2[:min_len])\n",
    "\n",
    "    out_name = f\"혼합_동시_비정상_{name_1}_{name_2}_{i+1}.wav\"\n",
    "    out_path = os.path.join(output_dir, out_name)\n",
    "    mixed.export(out_path, format=\"wav\")\n",
    "    print(f\"Saved: {out_name}\")"
   ]
  },
  {
   "cell_type": "markdown",
   "id": "241acef9",
   "metadata": {},
   "source": [
    "### 소리 합성 (비정상 + 비정상 , 연속 발생)"
   ]
  },
  {
   "cell_type": "code",
   "execution_count": null,
   "id": "e6943845",
   "metadata": {},
   "outputs": [],
   "source": [
    "import os\n",
    "import random\n",
    "from glob import glob\n",
    "from pydub import AudioSegment\n",
    "\n",
    "abnormal_dir = \"종설데이터/비정상/비정상\"\n",
    "output_dir = \"종설데이터/혼합\"\n",
    "os.makedirs(output_dir, exist_ok=True)\n",
    "\n",
    "# 비정상 wav 파일 전체 불러오기\n",
    "abnormal_files = glob(os.path.join(abnormal_dir, \"**\", \"*.wav\"), recursive=True)\n",
    "\n",
    "# 샘플 수 설정\n",
    "mix_count = min(len(abnormal_files), 30)\n",
    "for i in range(mix_count):\n",
    "    # 파일 두 개 랜덤 선택\n",
    "    file_1 = random.choice(abnormal_files)\n",
    "    file_2 = random.choice(abnormal_files)\n",
    "\n",
    "    name_1 = os.path.splitext(os.path.basename(file_1))[0]\n",
    "    name_2 = os.path.splitext(os.path.basename(file_2))[0]\n",
    "\n",
    "    # 오디오 불러오기\n",
    "    audio_1 = AudioSegment.from_wav(file_1)\n",
    "    audio_2 = AudioSegment.from_wav(file_2)\n",
    "\n",
    "    # 연속 붙이기\n",
    "    combined = audio_1 + audio_2\n",
    "\n",
    "    # 저장\n",
    "    out_name = f\"혼합_연속_비정상_{name_1}_then_{name_2}_{i+1}.wav\"\n",
    "    out_path = os.path.join(output_dir, out_name)\n",
    "    combined.export(out_path, format=\"wav\")\n",
    "    print(f\"Saved: {out_name}\")\n"
   ]
  }
 ],
 "metadata": {
  "kernelspec": {
   "display_name": "base",
   "language": "python",
   "name": "python3"
  },
  "language_info": {
   "codemirror_mode": {
    "name": "ipython",
    "version": 3
   },
   "file_extension": ".py",
   "mimetype": "text/x-python",
   "name": "python",
   "nbconvert_exporter": "python",
   "pygments_lexer": "ipython3",
   "version": "3.11.7"
  }
 },
 "nbformat": 4,
 "nbformat_minor": 5
}
