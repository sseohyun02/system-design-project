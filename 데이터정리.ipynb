{
 "cells": [
  {
   "cell_type": "code",
   "execution_count": null,
   "id": "2a542827",
   "metadata": {},
   "outputs": [],
   "source": [
    "import os\n",
    "import shutil\n",
    "\n",
    "# 정상 폴더 경로\n",
    "base_dir = \"종설데이터/정상\"\n",
    "\n",
    "# 하위 폴더 순회\n",
    "for folder_name in os.listdir(base_dir):\n",
    "    folder_path = os.path.join(base_dir, folder_name)\n",
    "    \n",
    "    if os.path.isdir(folder_path):\n",
    "        files = [f for f in os.listdir(folder_path) if f.endswith(\".wav\")]\n",
    "        files.sort()\n",
    "        \n",
    "        for idx, filename in enumerate(files, start=1):\n",
    "            new_name = f\"{folder_name}{idx}.wav\"\n",
    "            old_path = os.path.join(folder_path, filename)\n",
    "            new_path = os.path.join(base_dir, new_name)\n",
    "\n",
    "            # 이동 및 이름 변경\n",
    "            shutil.move(old_path, new_path)\n",
    "            print(f\"{old_path} → {new_path}\")"
   ]
  },
  {
   "cell_type": "code",
   "execution_count": null,
   "id": "a386f9bc",
   "metadata": {},
   "outputs": [],
   "source": [
    "# # 위 코드 실행 후, 비어있는 하위 폴더 제거\n",
    "# for folder_name in os.listdir(base_dir):\n",
    "#     folder_path = os.path.join(base_dir, folder_name)\n",
    "#     if os.path.isdir(folder_path) and not os.listdir(folder_path):\n",
    "#         os.rmdir(folder_path)\n",
    "#         print(f\"Removed empty folder: {folder_path}\")"
   ]
  },
  {
   "cell_type": "code",
   "execution_count": null,
   "id": "da8bb23d",
   "metadata": {},
   "outputs": [],
   "source": [
    "import os\n",
    "import shutil\n",
    "\n",
    "# 비정상 폴더 경로\n",
    "base_dir = \"종설데이터/비정상\"\n",
    "\n",
    "# 하위 폴더 순회\n",
    "for folder_name in os.listdir(base_dir):\n",
    "    folder_path = os.path.join(base_dir, folder_name)\n",
    "    \n",
    "    if os.path.isdir(folder_path):\n",
    "        files = [f for f in os.listdir(folder_path) if f.endswith(\".wav\")]\n",
    "        files.sort()\n",
    "        \n",
    "        for idx, filename in enumerate(files, start=1):\n",
    "            new_name = f\"{folder_name}{idx}.wav\"\n",
    "            old_path = os.path.join(folder_path, filename)\n",
    "            new_path = os.path.join(base_dir, new_name)\n",
    "\n",
    "            # 이동 및 이름 변경\n",
    "            shutil.move(old_path, new_path)\n",
    "            print(f\"{old_path} → {new_path}\")"
   ]
  },
  {
   "cell_type": "code",
   "execution_count": null,
   "id": "e0b660ae",
   "metadata": {},
   "outputs": [],
   "source": [
    "# # 위 코드 실행 후, 비어있는 하위 폴더 제거\n",
    "# for folder_name in os.listdir(base_dir):\n",
    "#     folder_path = os.path.join(base_dir, folder_name)\n",
    "#     if os.path.isdir(folder_path) and not os.listdir(folder_path):\n",
    "#         os.rmdir(folder_path)\n",
    "#         print(f\"Removed empty folder: {folder_path}\")"
   ]
  },
  {
   "cell_type": "markdown",
   "id": "66422cb2",
   "metadata": {},
   "source": [
    "- 테스트"
   ]
  },
  {
   "cell_type": "code",
   "execution_count": null,
   "id": "7a3900ed",
   "metadata": {},
   "outputs": [
    {
     "name": "stdout",
     "output_type": "stream",
     "text": [
      "데이터/ㅂㅈㅅ\\강도\\1.wav → 데이터/ㅂㅈㅅ\\강도1.wav\n",
      "데이터/ㅂㅈㅅ\\강도\\2.wav → 데이터/ㅂㅈㅅ\\강도2.wav\n",
      "데이터/ㅂㅈㅅ\\강도\\3.wav → 데이터/ㅂㅈㅅ\\강도3.wav\n",
      "데이터/ㅂㅈㅅ\\강도\\4.wav → 데이터/ㅂㅈㅅ\\강도4.wav\n",
      "데이터/ㅂㅈㅅ\\일반\\5.wav → 데이터/ㅂㅈㅅ\\일반1.wav\n",
      "데이터/ㅂㅈㅅ\\일반\\6.wav → 데이터/ㅂㅈㅅ\\일반2.wav\n",
      "데이터/ㅂㅈㅅ\\일반\\7.wav → 데이터/ㅂㅈㅅ\\일반3.wav\n",
      "데이터/ㅂㅈㅅ\\일반\\8.wav → 데이터/ㅂㅈㅅ\\일반4.wav\n",
      "데이터/ㅂㅈㅅ\\일반\\9.wav → 데이터/ㅂㅈㅅ\\일반5.wav\n",
      "데이터/ㅂㅈㅅ\\폭행\\10.wav → 데이터/ㅂㅈㅅ\\폭행1.wav\n",
      "데이터/ㅂㅈㅅ\\폭행\\11.wav → 데이터/ㅂㅈㅅ\\폭행2.wav\n",
      "데이터/ㅂㅈㅅ\\폭행\\12.wav → 데이터/ㅂㅈㅅ\\폭행3.wav\n",
      "데이터/ㅂㅈㅅ\\폭행\\13.wav → 데이터/ㅂㅈㅅ\\폭행4.wav\n",
      "데이터/ㅂㅈㅅ\\폭행\\14.wav → 데이터/ㅂㅈㅅ\\폭행5.wav\n",
      "데이터/ㅂㅈㅅ\\폭행\\15.wav → 데이터/ㅂㅈㅅ\\폭행6.wav\n"
     ]
    }
   ],
   "source": [
    "# import os\n",
    "# import shutil\n",
    "\n",
    "# # 정상 폴더 경로\n",
    "# base_dir = \"데이터/ㅂㅈㅅ\"\n",
    "\n",
    "# # 하위 폴더 순회\n",
    "# for folder_name in os.listdir(base_dir):\n",
    "#     folder_path = os.path.join(base_dir, folder_name)\n",
    "    \n",
    "#     if os.path.isdir(folder_path):\n",
    "#         files = [f for f in os.listdir(folder_path) if f.endswith(\".wav\")]\n",
    "#         files.sort()\n",
    "        \n",
    "#         for idx, filename in enumerate(files, start=1):\n",
    "#             new_name = f\"{folder_name}{idx}.wav\"\n",
    "#             old_path = os.path.join(folder_path, filename)\n",
    "#             new_path = os.path.join(base_dir, new_name)\n",
    "\n",
    "#             # 이동 및 이름 변경\n",
    "#             shutil.move(old_path, new_path)\n",
    "#             print(f\"{old_path} → {new_path}\")"
   ]
  },
  {
   "cell_type": "code",
   "execution_count": null,
   "id": "a12dd020",
   "metadata": {},
   "outputs": [],
   "source": []
  }
 ],
 "metadata": {
  "kernelspec": {
   "display_name": "base",
   "language": "python",
   "name": "python3"
  },
  "language_info": {
   "codemirror_mode": {
    "name": "ipython",
    "version": 3
   },
   "file_extension": ".py",
   "mimetype": "text/x-python",
   "name": "python",
   "nbconvert_exporter": "python",
   "pygments_lexer": "ipython3",
   "version": "3.11.7"
  }
 },
 "nbformat": 4,
 "nbformat_minor": 5
}
